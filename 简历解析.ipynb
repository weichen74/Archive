{
  "nbformat": 4,
  "nbformat_minor": 0,
  "metadata": {
    "colab": {
      "provenance": [],
      "authorship_tag": "ABX9TyNTKryjEiFDm+NNFeEmLI37",
      "include_colab_link": true
    },
    "kernelspec": {
      "name": "python3",
      "display_name": "Python 3"
    },
    "language_info": {
      "name": "python"
    }
  },
  "cells": [
    {
      "cell_type": "markdown",
      "metadata": {
        "id": "view-in-github",
        "colab_type": "text"
      },
      "source": [
        "<a href=\"https://colab.research.google.com/github/weichen74/Archive/blob/master/%E7%AE%80%E5%8E%86%E8%A7%A3%E6%9E%90.ipynb\" target=\"_parent\"><img src=\"https://colab.research.google.com/assets/colab-badge.svg\" alt=\"Open In Colab\"/></a>"
      ]
    },
    {
      "cell_type": "code",
      "execution_count": 3,
      "metadata": {
        "colab": {
          "base_uri": "https://localhost:8080/"
        },
        "id": "jBBRiTcCvL8H",
        "outputId": "99b13eac-5514-472d-c571-3b420b184330"
      },
      "outputs": [
        {
          "output_type": "stream",
          "name": "stdout",
          "text": [
            "[{'姓名': '张三', '性别': '男', '民族': '汉', '最高学历': '本科', '年龄': '50', '政治面貌': '中共党员'}]\n",
            "output1:::\n",
            "打分：8分\n",
            "\n",
            "优点：1.政治素质较好；2.管理经验丰富；3.专业技术水平较高。\n",
            "\n",
            "缺点：1.有时稍显谨慎；2.开拓创新意识需要进一步增强；3.大胆开展工作力度有待进一步提升。\n",
            "\n",
            "关键词：政治素质、管理经验、专业技术、谨慎、创新意识。\n",
            "\n",
            "面试题：\n",
            "1.请介绍一下您的政治素质？\n",
            "2.您有多少年的管理经验？\n",
            "3.您有哪些专业技术？\n",
            "4.您认为谨慎是一个优点还是缺点？\n",
            "5.您如何提升自己的创新意识？\n",
            "[{'分数': '8分', '优点': '1.政治素质较好；2.管理经验丰富；3.专业技术水平较高。', '缺点': '1.有时稍显谨慎；2.开拓创新意识需要进一步增强；3.大胆开展工作力度有待进一步提升。', '关键词': '政治素质、管理经验、专业技术、谨慎、创新意识。', '面试题': '1.请介绍一下您的政治素质？\\n2.您有多少年的管理经验？\\n3.您有哪些专业技术？\\n4.您认为谨慎是一个优点还是缺点？\\n5.您如何提升自己的创新意识？'}]\n"
          ]
        }
      ],
      "source": [
        "from langchain.llms import OpenAI\n",
        "from langchain.chat_models import ChatOpenAI\n",
        "from langchain.chains import create_extraction_chain\n",
        "\n",
        "import os\n",
        "OPENAI_API_KEY = \"\"\n",
        "\n",
        "os.environ['OPENAI_API_KEY'] = OPENAI_API_KEY\n",
        "\n",
        "model = OpenAI(temperature=0, max_tokens=1024)\n",
        "\n",
        "prompt = \"\"\"\n",
        "你是资深HR，请对以下面试者信息进行打分，给出3个优点和3个缺点，并用5个关键词总结一下这个用户，并给出5个面试题，给出姓名和年龄\n",
        "姓名：张三\n",
        "性别：男\n",
        "民族：汉\n",
        "最高学历:本科\n",
        "参加工作时间：1988\n",
        "出生日期：1969\n",
        "现任职务：财务部主任\n",
        "职称：高级会计师\n",
        "职称等级：正高级\n",
        "干部级别：正处级\n",
        "政治面貌：中共党员\n",
        "综合评价：政治素质较好。经过财务、人资主要负责人等多岗位锻炼，管理经验比较丰富，专业技术水平较高。思路清晰，考虑问题周到，计划性和条理性较好。工作认真负责，管理比较细致，注重对上沟通汇报，具有较强的风险防范意识。为人踏实本分，注重配合协作。\n",
        "不足：1.有时稍显谨慎，大胆开展工作力度有待进一步提升；2.开拓创新意识需要进一步增强。\n",
        "奖励：服务标兵，抗灾救灾恢复重建先进个人，管理创新二等奖\n",
        "惩罚：诫勉一次\n",
        "\"\"\"\n",
        "\n",
        "# 拿到个人基本信息\n",
        "schema = {\n",
        "    \"properties\": {\n",
        "        \"姓名\": {\"type\": \"string\"},\n",
        "        \"性别\": {\"type\": \"string\"},\n",
        "        \"民族\": {\"type\": \"string\"},\n",
        "        \"最高学历\": {\"type\": \"string\"},\n",
        "        \"年龄\": {\"type\": \"string\"},\n",
        "        \"政治面貌\": {\"type\": \"string\"},\n",
        "    },\n",
        "    \"required\": [\"姓名\", \"性别\", \"民族\", \"最高学历\", \"年龄\", \"政治面貌\"],\n",
        "}\n",
        "\n",
        "llm = ChatOpenAI(temperature=0, model=\"gpt-3.5-turbo\")\n",
        "chain = create_extraction_chain(schema, llm)\n",
        "print(chain.run(prompt))\n",
        "\n",
        "output = model(prompt)\n",
        "print(f'output1:::{output}')\n",
        "\n",
        "schema = {\n",
        "    \"properties\": {\n",
        "        \"分数\": {\"type\": \"string\"},\n",
        "        \"优点\": {\"type\": \"string\"},\n",
        "        \"缺点\": {\"type\": \"string\"},\n",
        "        \"关键词\": {\"type\": \"string\"},\n",
        "        \"面试题\": {\"type\": \"string\"},\n",
        "    },\n",
        "    \"required\": [\"分数\", \"优点\", \"缺点\", \"关键词\", \"面试题\"],\n",
        "}\n",
        "\n",
        "chain = create_extraction_chain(schema, llm)\n",
        "print(chain.run(output))\n"
      ]
    },
    {
      "cell_type": "code",
      "source": [
        "!pip install langchain openai"
      ],
      "metadata": {
        "colab": {
          "base_uri": "https://localhost:8080/"
        },
        "id": "wtmurt82vcGH",
        "outputId": "34aa6f9d-36f5-443f-b537-a6462b1b7dfb"
      },
      "execution_count": 2,
      "outputs": [
        {
          "output_type": "stream",
          "name": "stdout",
          "text": [
            "Collecting langchain\n",
            "  Downloading langchain-0.0.270-py3-none-any.whl (1.5 MB)\n",
            "\u001b[2K     \u001b[90m━━━━━━━━━━━━━━━━━━━━━━━━━━━━━━━━━━━━━━━━\u001b[0m \u001b[32m1.5/1.5 MB\u001b[0m \u001b[31m7.8 MB/s\u001b[0m eta \u001b[36m0:00:00\u001b[0m\n",
            "\u001b[?25hCollecting openai\n",
            "  Downloading openai-0.27.8-py3-none-any.whl (73 kB)\n",
            "\u001b[2K     \u001b[90m━━━━━━━━━━━━━━━━━━━━━━━━━━━━━━━━━━━━━━━━\u001b[0m \u001b[32m73.6/73.6 kB\u001b[0m \u001b[31m9.0 MB/s\u001b[0m eta \u001b[36m0:00:00\u001b[0m\n",
            "\u001b[?25hRequirement already satisfied: PyYAML>=5.3 in /usr/local/lib/python3.10/dist-packages (from langchain) (6.0.1)\n",
            "Requirement already satisfied: SQLAlchemy<3,>=1.4 in /usr/local/lib/python3.10/dist-packages (from langchain) (2.0.20)\n",
            "Requirement already satisfied: aiohttp<4.0.0,>=3.8.3 in /usr/local/lib/python3.10/dist-packages (from langchain) (3.8.5)\n",
            "Requirement already satisfied: async-timeout<5.0.0,>=4.0.0 in /usr/local/lib/python3.10/dist-packages (from langchain) (4.0.3)\n",
            "Collecting dataclasses-json<0.6.0,>=0.5.7 (from langchain)\n",
            "  Downloading dataclasses_json-0.5.14-py3-none-any.whl (26 kB)\n",
            "Collecting langsmith<0.1.0,>=0.0.21 (from langchain)\n",
            "  Downloading langsmith-0.0.25-py3-none-any.whl (33 kB)\n",
            "Requirement already satisfied: numexpr<3.0.0,>=2.8.4 in /usr/local/lib/python3.10/dist-packages (from langchain) (2.8.5)\n",
            "Requirement already satisfied: numpy<2,>=1 in /usr/local/lib/python3.10/dist-packages (from langchain) (1.23.5)\n",
            "Requirement already satisfied: pydantic<3,>=1 in /usr/local/lib/python3.10/dist-packages (from langchain) (2.2.0)\n",
            "Requirement already satisfied: requests<3,>=2 in /usr/local/lib/python3.10/dist-packages (from langchain) (2.31.0)\n",
            "Requirement already satisfied: tenacity<9.0.0,>=8.1.0 in /usr/local/lib/python3.10/dist-packages (from langchain) (8.2.3)\n",
            "Requirement already satisfied: tqdm in /usr/local/lib/python3.10/dist-packages (from openai) (4.66.1)\n",
            "Requirement already satisfied: attrs>=17.3.0 in /usr/local/lib/python3.10/dist-packages (from aiohttp<4.0.0,>=3.8.3->langchain) (23.1.0)\n",
            "Requirement already satisfied: charset-normalizer<4.0,>=2.0 in /usr/local/lib/python3.10/dist-packages (from aiohttp<4.0.0,>=3.8.3->langchain) (3.2.0)\n",
            "Requirement already satisfied: multidict<7.0,>=4.5 in /usr/local/lib/python3.10/dist-packages (from aiohttp<4.0.0,>=3.8.3->langchain) (6.0.4)\n",
            "Requirement already satisfied: yarl<2.0,>=1.0 in /usr/local/lib/python3.10/dist-packages (from aiohttp<4.0.0,>=3.8.3->langchain) (1.9.2)\n",
            "Requirement already satisfied: frozenlist>=1.1.1 in /usr/local/lib/python3.10/dist-packages (from aiohttp<4.0.0,>=3.8.3->langchain) (1.4.0)\n",
            "Requirement already satisfied: aiosignal>=1.1.2 in /usr/local/lib/python3.10/dist-packages (from aiohttp<4.0.0,>=3.8.3->langchain) (1.3.1)\n",
            "Collecting marshmallow<4.0.0,>=3.18.0 (from dataclasses-json<0.6.0,>=0.5.7->langchain)\n",
            "  Downloading marshmallow-3.20.1-py3-none-any.whl (49 kB)\n",
            "\u001b[2K     \u001b[90m━━━━━━━━━━━━━━━━━━━━━━━━━━━━━━━━━━━━━━━━\u001b[0m \u001b[32m49.4/49.4 kB\u001b[0m \u001b[31m4.7 MB/s\u001b[0m eta \u001b[36m0:00:00\u001b[0m\n",
            "\u001b[?25hCollecting typing-inspect<1,>=0.4.0 (from dataclasses-json<0.6.0,>=0.5.7->langchain)\n",
            "  Downloading typing_inspect-0.9.0-py3-none-any.whl (8.8 kB)\n",
            "Requirement already satisfied: annotated-types>=0.4.0 in /usr/local/lib/python3.10/dist-packages (from pydantic<3,>=1->langchain) (0.5.0)\n",
            "Requirement already satisfied: pydantic-core==2.6.0 in /usr/local/lib/python3.10/dist-packages (from pydantic<3,>=1->langchain) (2.6.0)\n",
            "Requirement already satisfied: typing-extensions>=4.6.1 in /usr/local/lib/python3.10/dist-packages (from pydantic<3,>=1->langchain) (4.7.1)\n",
            "Requirement already satisfied: idna<4,>=2.5 in /usr/local/lib/python3.10/dist-packages (from requests<3,>=2->langchain) (3.4)\n",
            "Requirement already satisfied: urllib3<3,>=1.21.1 in /usr/local/lib/python3.10/dist-packages (from requests<3,>=2->langchain) (2.0.4)\n",
            "Requirement already satisfied: certifi>=2017.4.17 in /usr/local/lib/python3.10/dist-packages (from requests<3,>=2->langchain) (2023.7.22)\n",
            "Requirement already satisfied: greenlet!=0.4.17 in /usr/local/lib/python3.10/dist-packages (from SQLAlchemy<3,>=1.4->langchain) (2.0.2)\n",
            "Requirement already satisfied: packaging>=17.0 in /usr/local/lib/python3.10/dist-packages (from marshmallow<4.0.0,>=3.18.0->dataclasses-json<0.6.0,>=0.5.7->langchain) (23.1)\n",
            "Collecting mypy-extensions>=0.3.0 (from typing-inspect<1,>=0.4.0->dataclasses-json<0.6.0,>=0.5.7->langchain)\n",
            "  Downloading mypy_extensions-1.0.0-py3-none-any.whl (4.7 kB)\n",
            "Installing collected packages: mypy-extensions, marshmallow, typing-inspect, openai, langsmith, dataclasses-json, langchain\n",
            "Successfully installed dataclasses-json-0.5.14 langchain-0.0.270 langsmith-0.0.25 marshmallow-3.20.1 mypy-extensions-1.0.0 openai-0.27.8 typing-inspect-0.9.0\n"
          ]
        }
      ]
    }
  ]
}
